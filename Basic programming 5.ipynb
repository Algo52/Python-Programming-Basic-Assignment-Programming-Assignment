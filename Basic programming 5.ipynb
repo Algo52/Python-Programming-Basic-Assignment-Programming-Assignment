{
 "cells": [
  {
   "cell_type": "markdown",
   "id": "89183d8b",
   "metadata": {},
   "source": [
    "## 1. Write a Python Program to Find LCM?"
   ]
  },
  {
   "cell_type": "code",
   "execution_count": 5,
   "id": "90e8b49b",
   "metadata": {},
   "outputs": [
    {
     "name": "stdout",
     "output_type": "stream",
     "text": [
      "Enter first number: 5\n",
      "Enter second number: 6\n",
      "lcm of 5 and 6 is :30\n"
     ]
    }
   ],
   "source": [
    "num1 = int(input(\"Enter first number: \"))  \n",
    "num2 = int(input(\"Enter second number: \"))  \n",
    "if num1>num2:\n",
    "    greater =num1\n",
    "else:\n",
    "    greater=num2\n",
    "while(True):\n",
    "    if greater % num1 == 0 and greater % num2 == 0 :\n",
    "        lcm = greater\n",
    "        break\n",
    "    greater=greater+1\n",
    "print(\"lcm of {} and {} is :{}\".format(num1,num2,lcm))"
   ]
  },
  {
   "cell_type": "markdown",
   "id": "e501b194",
   "metadata": {},
   "source": [
    "## 2. Write a Python Program to Find HCF?"
   ]
  },
  {
   "cell_type": "code",
   "execution_count": 10,
   "id": "7880dd9f",
   "metadata": {},
   "outputs": [
    {
     "name": "stdout",
     "output_type": "stream",
     "text": [
      "Enter first number: 15\n",
      "Enter second number: 19\n",
      "lcm of 15 and 19 is :1\n"
     ]
    }
   ],
   "source": [
    "num1 = int(input(\"Enter first number: \"))  \n",
    "num2 = int(input(\"Enter second number: \"))  \n",
    "if num1<num2:\n",
    "    smaller =num1\n",
    "else:\n",
    "    smaller=num2\n",
    "hcf=0\n",
    "for i in range(1,smaller+1):\n",
    "    if num1 % i == 0 and num2 % i == 0 :\n",
    "        hcf = i\n",
    "print(\"lcm of {} and {} is :{}\".format(num1,num2,hcf))"
   ]
  },
  {
   "cell_type": "markdown",
   "id": "eb7ccdb0",
   "metadata": {},
   "source": [
    "## 3. Write a Python Program to Convert Decimal to Binary, Octal and Hexadecimal?"
   ]
  },
  {
   "cell_type": "code",
   "execution_count": 16,
   "id": "a1de194b",
   "metadata": {},
   "outputs": [
    {
     "name": "stdout",
     "output_type": "stream",
     "text": [
      "Enter a number: 179\n",
      "179 to binnary 0b10110011\n",
      "179 to octal 0o263\n",
      "179 to hexadecimal 0xb3\n"
     ]
    }
   ],
   "source": [
    "num= int(input(\"Enter a number: \"))  \n",
    "print(num,\"to binnary\",bin(num))\n",
    "print(num,\"to octal\",oct(num))\n",
    "print(num,\"to hexadecimal\",hex(num))"
   ]
  },
  {
   "cell_type": "markdown",
   "id": "e7b7627a",
   "metadata": {},
   "source": [
    "## 4. Write a Python Program To Find ASCII value of a character?"
   ]
  },
  {
   "cell_type": "code",
   "execution_count": 20,
   "id": "4dbd77b6",
   "metadata": {},
   "outputs": [
    {
     "name": "stdout",
     "output_type": "stream",
     "text": [
      "Please enter a character: A\n",
      "The ASCII value of A is  65\n"
     ]
    }
   ],
   "source": [
    "num = input(\"Please enter a character: \")    \n",
    "    \n",
    "print (\"The ASCII value of \" + num + \" is \", ord(num))  "
   ]
  },
  {
   "cell_type": "markdown",
   "id": "c6ad7db0",
   "metadata": {},
   "source": [
    "## 5. Write a Python Program to Make a Simple Calculator with 4 basic mathematical operations?"
   ]
  },
  {
   "cell_type": "code",
   "execution_count": 26,
   "id": "34ea1fa3",
   "metadata": {},
   "outputs": [
    {
     "name": "stdout",
     "output_type": "stream",
     "text": [
      "Enter num1 :5\n",
      "Enter num2 :6\n",
      "Enter + for addition : \n",
      "Enter - for Subtraction :\n",
      "Enter * for multiplication :\n",
      "Enter / for division : -\n",
      "5.0 - 6.0 = -1.0\n"
     ]
    }
   ],
   "source": [
    "num1 = float(input(\"Enter num1 :\"))\n",
    "num2 = float(input(\"Enter num2 :\"))\n",
    "\n",
    "operation = input(\"Enter + for addition : \\nEnter - for Subtraction :\\nEnter * for multiplication :\\nEnter / for division : \")\n",
    "\n",
    "add = num1 + num2\n",
    "sub = num1 - num2\n",
    "mul = num1 * num2\n",
    "div=num1 /num2\n",
    "\n",
    "if operation == \"+\":\n",
    "    print(\"{} + {} = {}\".format(num1,num2,add))\n",
    "elif operation == \"-\":\n",
    "    print(\"{} - {} = {}\".format(num1,num2,sub))\n",
    "elif operation == \"*\":\n",
    "    print(\"{} * {} = {}\".format(num1,num2,mul))\n",
    "elif operation == \"/\":\n",
    "    print(\"{} / {} = {}\".format(num1,num2,div))\n",
    "    \n",
    "else:\n",
    "    print(\"Invalid input\")\n",
    "    "
   ]
  }
 ],
 "metadata": {
  "kernelspec": {
   "display_name": "Python 3 (ipykernel)",
   "language": "python",
   "name": "python3"
  },
  "language_info": {
   "codemirror_mode": {
    "name": "ipython",
    "version": 3
   },
   "file_extension": ".py",
   "mimetype": "text/x-python",
   "name": "python",
   "nbconvert_exporter": "python",
   "pygments_lexer": "ipython3",
   "version": "3.9.7"
  }
 },
 "nbformat": 4,
 "nbformat_minor": 5
}
