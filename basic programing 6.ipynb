{
 "cells": [
  {
   "cell_type": "markdown",
   "id": "5dc21ff5",
   "metadata": {},
   "source": [
    "## 1. Write a Python Program to Display Fibonacci Sequence Using Recursion?"
   ]
  },
  {
   "cell_type": "code",
   "execution_count": 7,
   "id": "438741fa",
   "metadata": {},
   "outputs": [
    {
     "name": "stdout",
     "output_type": "stream",
     "text": [
      "ENter an input of any anumber20\n",
      "Fibonacci series upto  20 :\n",
      "0 1 1 2 3 5 8 13 21 34 55 89 144 233 377 610 987 1597 2584 4181 "
     ]
    }
   ],
   "source": [
    "def fibo(n):\n",
    "    if n<=1:\n",
    "        return n\n",
    "    else:\n",
    "        return fibo(n-1)+fibo(n-2)\n",
    "num=int(input(\"ENter an input of any anumber\"))\n",
    "if num<0:\n",
    "    print(\"Enter postive number\")\n",
    "elif num==1:\n",
    "    print(\"Fibonacci series upto \",num, \":\")\n",
    "else:\n",
    "    print(\"Fibonacci series upto \",num, \":\")\n",
    "    for i in range(num):\n",
    "        print(fibo(i),end=\" \")\n",
    "        "
   ]
  },
  {
   "cell_type": "markdown",
   "id": "cfc87896",
   "metadata": {},
   "source": [
    "## 2. Write a Python Program to Find Factorial of Number Using Recursion?"
   ]
  },
  {
   "cell_type": "code",
   "execution_count": 11,
   "id": "caced82c",
   "metadata": {},
   "outputs": [
    {
     "name": "stdout",
     "output_type": "stream",
     "text": [
      "Enter any number5\n",
      "number :  5\n",
      "Factorial :  120\n"
     ]
    }
   ],
   "source": [
    "def fact(n):\n",
    "    if (n<=0 or n<=1):\n",
    "        return 1\n",
    "    else:\n",
    "        return (n*fact(n-1))\n",
    "num=int(input(\"Enter any number\"))\n",
    "print(\"number : \",num)\n",
    "print(\"Factorial : \",fact(num))"
   ]
  },
  {
   "cell_type": "markdown",
   "id": "6ee96c66",
   "metadata": {},
   "source": [
    "## 3. Write a Python Program to calculate your Body Mass Index?"
   ]
  },
  {
   "cell_type": "code",
   "execution_count": 27,
   "id": "018de159",
   "metadata": {},
   "outputs": [
    {
     "name": "stdout",
     "output_type": "stream",
     "text": [
      "Enter your height: 5\n",
      "Enter your weight: 5\n",
      "The BMI is 0.2\n"
     ]
    }
   ],
   "source": [
    "\n",
    "height=int(input(\"Enter your height: \"))\n",
    "weight=int(input(\"Enter your weight: \"))\n",
    "\n",
    "bmi = weight/(height**2)\n",
    "print(\"The BMI is\",bmi )\n"
   ]
  },
  {
   "cell_type": "markdown",
   "id": "17a51780",
   "metadata": {},
   "source": [
    "## 4. Write a Python Program to calculate the natural logarithm of any number"
   ]
  },
  {
   "cell_type": "code",
   "execution_count": 31,
   "id": "b0ca1bef",
   "metadata": {},
   "outputs": [
    {
     "name": "stdout",
     "output_type": "stream",
     "text": [
      "ENter ur log number5\n",
      "THE log of 5 is 1.6094379124341003 \n"
     ]
    }
   ],
   "source": [
    "import math\n",
    "a=int(input(\"ENter ur log number\"))\n",
    "log=math.log(a)\n",
    "print(\"THE log of {} is {} \".format(a,log))"
   ]
  },
  {
   "cell_type": "markdown",
   "id": "1a87b485",
   "metadata": {},
   "source": [
    "## 5. Write a Python Program for cube sum of first n natural numbers?"
   ]
  },
  {
   "cell_type": "code",
   "execution_count": 42,
   "id": "49c5e042",
   "metadata": {},
   "outputs": [
    {
     "name": "stdout",
     "output_type": "stream",
     "text": [
      "enter a number3\n",
      "Cube sum of 3 is 36\n"
     ]
    }
   ],
   "source": [
    "num=int(input(\"enter a number\"))\n",
    "sum=0\n",
    "for i in range(1,num+1):\n",
    "       sum=sum+i*i*i\n",
    "print(\"Cube sum of {} is {}\".format(num,sum))"
   ]
  }
 ],
 "metadata": {
  "kernelspec": {
   "display_name": "Python 3 (ipykernel)",
   "language": "python",
   "name": "python3"
  },
  "language_info": {
   "codemirror_mode": {
    "name": "ipython",
    "version": 3
   },
   "file_extension": ".py",
   "mimetype": "text/x-python",
   "name": "python",
   "nbconvert_exporter": "python",
   "pygments_lexer": "ipython3",
   "version": "3.9.7"
  }
 },
 "nbformat": 4,
 "nbformat_minor": 5
}
