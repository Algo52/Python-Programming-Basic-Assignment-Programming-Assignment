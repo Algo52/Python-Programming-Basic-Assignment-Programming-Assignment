{
 "cells": [
  {
   "cell_type": "markdown",
   "id": "3ddedad8",
   "metadata": {},
   "source": [
    "## 1. Write a Python Program to Add Two Matrices?"
   ]
  },
  {
   "cell_type": "code",
   "execution_count": 27,
   "id": "51695f1b",
   "metadata": {},
   "outputs": [
    {
     "name": "stdout",
     "output_type": "stream",
     "text": [
      "[10, 10, 10]\n",
      "[10, 10, 10]\n",
      "[10, 10, 10]\n"
     ]
    }
   ],
   "source": [
    "\n",
    "X = [[1,2,3],\n",
    "    [4 ,5,6],\n",
    "    [7 ,8,9]]\n",
    " \n",
    "Y = [[9,8,7],\n",
    "    [6,5,4],\n",
    "    [3,2,1]]\n",
    " \n",
    "add= [[0,0,0],\n",
    "        [0,0,0],\n",
    "        [0,0,0]]\n",
    " \n",
    "# iterate through rows\n",
    "for i in range(len(X)):  \n",
    "# iterate through columns\n",
    "    for j in range(len(X[0])):\n",
    "        add[i][j] = X[i][j] + Y[i][j]\n",
    "for h in add:\n",
    "        print(h)\n"
   ]
  },
  {
   "cell_type": "markdown",
   "id": "ef1d0a90",
   "metadata": {},
   "source": [
    "## 2. Write a Python Program to Multiply Two Matrices?"
   ]
  },
  {
   "cell_type": "code",
   "execution_count": 29,
   "id": "e157370a",
   "metadata": {},
   "outputs": [
    {
     "name": "stdout",
     "output_type": "stream",
     "text": [
      "[9, 16, 21]\n",
      "[24, 25, 24]\n",
      "[21, 16, 9]\n"
     ]
    }
   ],
   "source": [
    "X = [[1,2,3],\n",
    "    [4 ,5,6],\n",
    "    [7 ,8,9]]\n",
    " \n",
    "Y = [[9,8,7],\n",
    "    [6,5,4],\n",
    "    [3,2,1]]\n",
    " \n",
    "mul= [[0,0,0],\n",
    "        [0,0,0],\n",
    "        [0,0,0]]\n",
    " \n",
    "# iterate through rows\n",
    "for i in range(len(X)):  \n",
    "# iterate through columns\n",
    "    for j in range(len(X[0])):\n",
    "        mul[i][j] = X[i][j] * Y[i][j]\n",
    "for h in mul:\n",
    "        print(h)\n"
   ]
  },
  {
   "cell_type": "markdown",
   "id": "e3353648",
   "metadata": {},
   "source": [
    "## 3. Write a Python Program to Transpose a Matrix?"
   ]
  },
  {
   "cell_type": "code",
   "execution_count": 38,
   "id": "d4b4af59",
   "metadata": {},
   "outputs": [
    {
     "name": "stdout",
     "output_type": "stream",
     "text": [
      "[12, 7, 3]\n",
      "[4, 5, 8]\n",
      "[3, 8, 9]\n"
     ]
    }
   ],
   "source": [
    "# Program to transpose a matrix using a nested loop\n",
    "\n",
    "X = [[12,7,3],\n",
    "    [4 ,5,8],\n",
    "    [3 ,8,9]]\n",
    "\n",
    "trans = [[0,0,0],\n",
    "         [0,0,0],\n",
    "         [0,0,0]]\n",
    "\n",
    "# iterate through rows\n",
    "for i in range(len(X)):\n",
    "   # iterate through columns\n",
    "   for j in range(len(X[0])):\n",
    "        trans[i][j] = X[i][j]\n",
    "for r in trans:\n",
    "    print(r)"
   ]
  },
  {
   "cell_type": "markdown",
   "id": "8916a10a",
   "metadata": {},
   "source": [
    "## 4. Write a Python Program to Sort Words in Alphabetic Order?"
   ]
  },
  {
   "cell_type": "code",
   "execution_count": 50,
   "id": "58953e72",
   "metadata": {},
   "outputs": [
    {
     "name": "stdout",
     "output_type": "stream",
     "text": [
      "Enter an wordsmy name is hemanth \n",
      "hemanth\n",
      "is\n",
      "my\n",
      "name\n"
     ]
    }
   ],
   "source": [
    "words=(input(\"Enter an words\"))\n",
    "word=words.split()\n",
    "word.sort()\n",
    "for i in word:\n",
    "    print(i)\n"
   ]
  },
  {
   "cell_type": "markdown",
   "id": "d61b681a",
   "metadata": {},
   "source": [
    "## 5. Write a Python Program to Remove Punctuation From a String?"
   ]
  },
  {
   "cell_type": "code",
   "execution_count": 54,
   "id": "0826ad64",
   "metadata": {},
   "outputs": [
    {
     "name": "stdout",
     "output_type": "stream",
     "text": [
      "enter the stringmy! name@ is# hemanth$ \n",
      "my  name  is  hemanth  \n"
     ]
    }
   ],
   "source": [
    "str=input(\"enter the string\")\n",
    "punctuations = '''!()-[]{};:'\"\\,<>./?@#$%^&*_~'''\n",
    "for i in str:\n",
    "    if i in punctuations:\n",
    "        str=str.replace(i, \" \")\n",
    "print(str)"
   ]
  }
 ],
 "metadata": {
  "kernelspec": {
   "display_name": "Python 3 (ipykernel)",
   "language": "python",
   "name": "python3"
  },
  "language_info": {
   "codemirror_mode": {
    "name": "ipython",
    "version": 3
   },
   "file_extension": ".py",
   "mimetype": "text/x-python",
   "name": "python",
   "nbconvert_exporter": "python",
   "pygments_lexer": "ipython3",
   "version": "3.9.7"
  }
 },
 "nbformat": 4,
 "nbformat_minor": 5
}
