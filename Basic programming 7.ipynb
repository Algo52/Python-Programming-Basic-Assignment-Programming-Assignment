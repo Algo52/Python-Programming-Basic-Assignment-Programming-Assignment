{
 "cells": [
  {
   "cell_type": "markdown",
   "id": "809b5946",
   "metadata": {},
   "source": [
    "## 1. Write a Python Program to find sum of array?"
   ]
  },
  {
   "cell_type": "code",
   "execution_count": 4,
   "id": "11b7ce2f",
   "metadata": {},
   "outputs": [
    {
     "name": "stdout",
     "output_type": "stream",
     "text": [
      "16\n"
     ]
    }
   ],
   "source": [
    "l1=[1,3,4,6,2]\n",
    "print(sum(l1))"
   ]
  },
  {
   "cell_type": "code",
   "execution_count": 14,
   "id": "608424f4",
   "metadata": {},
   "outputs": [
    {
     "name": "stdout",
     "output_type": "stream",
     "text": [
      "the sum  is 16\n"
     ]
    }
   ],
   "source": [
    "l1=[1,3,4,6,2]\n",
    "sum=0\n",
    "for i in range(0,len(l1)):\n",
    "    sum=sum+l1[i]\n",
    "print(\"the sum  is\",sum) "
   ]
  },
  {
   "cell_type": "markdown",
   "id": "c3550371",
   "metadata": {},
   "source": [
    "## 2. Write a Python Program to find largest element in an array?"
   ]
  },
  {
   "cell_type": "code",
   "execution_count": 16,
   "id": "f2bd6285",
   "metadata": {},
   "outputs": [
    {
     "data": {
      "text/plain": [
       "323"
      ]
     },
     "execution_count": 16,
     "metadata": {},
     "output_type": "execute_result"
    }
   ],
   "source": [
    "l=[1,3,4,6,2,100,200,56,3,4,323]\n",
    "max(l)\n"
   ]
  },
  {
   "cell_type": "code",
   "execution_count": 3,
   "id": "c2dde64b",
   "metadata": {},
   "outputs": [
    {
     "name": "stdout",
     "output_type": "stream",
     "text": [
      "Largest element in the array [1, 3, 4, 6, 2, 100, 200, 56, 3, 4, 323] is 323 \n"
     ]
    }
   ],
   "source": [
    "l=[1,3,4,6,2,100,200,56,3,4,323]\n",
    "arr = 0\n",
    "for i in range(0,len(l)):\n",
    "    #if arr < l[i]:\n",
    "        arr = l[i]\n",
    "        \n",
    "print(\"Largest element in the array {} is {} \".format(l,arr))"
   ]
  },
  {
   "cell_type": "markdown",
   "id": "795a3acc",
   "metadata": {},
   "source": [
    "## 3. Write a Python Program for array rotation?"
   ]
  },
  {
   "cell_type": "code",
   "execution_count": 15,
   "id": "e33b2dc8",
   "metadata": {},
   "outputs": [
    {
     "name": "stdout",
     "output_type": "stream",
     "text": [
      "[45, 7, 1, 2]\n"
     ]
    }
   ],
   "source": [
    "def rotateArray(arr, n, d):\n",
    "    temp = []\n",
    "    i = 0\n",
    "    while (i < d):\n",
    "        temp.append(arr[i])\n",
    "        i = i + 1\n",
    "    i = 0\n",
    "    while (d < n):\n",
    "        arr[i] = arr[d]\n",
    "        i = i + 1\n",
    "        d = d + 1\n",
    "    arr[:] = arr[: i] + temp\n",
    "    return arr\n",
    "arr=[1,2,45,7]\n",
    "print(rotateArray(arr,len(arr),2))"
   ]
  },
  {
   "cell_type": "markdown",
   "id": "9e566c62",
   "metadata": {},
   "source": [
    "## 4. Write a Python Program to Split the array and add the first part to the end?"
   ]
  },
  {
   "cell_type": "code",
   "execution_count": 25,
   "id": "04af786b",
   "metadata": {},
   "outputs": [
    {
     "data": {
      "text/plain": [
       "[6, 7, 8, 9, 1, 2, 3, 4]"
      ]
     },
     "execution_count": 25,
     "metadata": {},
     "output_type": "execute_result"
    }
   ],
   "source": [
    "arr1 = [1,2,3,4,5,6,7,8,9]\n",
    "def Arraysplit(arr,arr1):\n",
    " \n",
    "  newArray = arr[arr1:] + arr[0:arr1-1]\n",
    "  return newArray\n",
    "\n",
    "\n",
    "Arraysplit(arr1,5)"
   ]
  },
  {
   "cell_type": "markdown",
   "id": "ab5daf6c",
   "metadata": {},
   "source": [
    "## 5.Write a Python Program to check if given array is Monotonic?\n",
    "- An array is said to be monotonic in nature if it is either continuously increasing or continuously decreasing."
   ]
  },
  {
   "cell_type": "code",
   "execution_count": 34,
   "id": "fbbbe29d",
   "metadata": {},
   "outputs": [],
   "source": [
    "def monotonic(L):\n",
    "    return (all(L[i] < L[i+1] for i in range(len(L)-1)) or\n",
    " all(L[i] > L[i+1] for i in range(len(L)-1)))"
   ]
  },
  {
   "cell_type": "code",
   "execution_count": 39,
   "id": "4fb127d5",
   "metadata": {},
   "outputs": [
    {
     "data": {
      "text/plain": [
       "False"
      ]
     },
     "execution_count": 39,
     "metadata": {},
     "output_type": "execute_result"
    }
   ],
   "source": [
    "monotonic([1,12,3,4,5])"
   ]
  },
  {
   "cell_type": "code",
   "execution_count": 40,
   "id": "822e4df3",
   "metadata": {},
   "outputs": [
    {
     "name": "stdout",
     "output_type": "stream",
     "text": [
      "False\n"
     ]
    }
   ],
   "source": [
    "print(monotonic([1,1,1]))"
   ]
  },
  {
   "cell_type": "code",
   "execution_count": 41,
   "id": "d15e29b1",
   "metadata": {},
   "outputs": [
    {
     "name": "stdout",
     "output_type": "stream",
     "text": [
      "True\n"
     ]
    }
   ],
   "source": [
    "print(monotonic([90,88,67,22]))"
   ]
  }
 ],
 "metadata": {
  "kernelspec": {
   "display_name": "Python 3 (ipykernel)",
   "language": "python",
   "name": "python3"
  },
  "language_info": {
   "codemirror_mode": {
    "name": "ipython",
    "version": 3
   },
   "file_extension": ".py",
   "mimetype": "text/x-python",
   "name": "python",
   "nbconvert_exporter": "python",
   "pygments_lexer": "ipython3",
   "version": "3.9.7"
  }
 },
 "nbformat": 4,
 "nbformat_minor": 5
}
