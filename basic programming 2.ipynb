{
 "cells": [
  {
   "cell_type": "markdown",
   "id": "508145ad",
   "metadata": {},
   "source": [
    "# Python Basic Programming 2\n"
   ]
  },
  {
   "cell_type": "markdown",
   "id": "c38a706d",
   "metadata": {},
   "source": [
    "## 1. Write a Python program to convert kilometers to miles?"
   ]
  },
  {
   "cell_type": "code",
   "execution_count": 5,
   "id": "28becb9f",
   "metadata": {},
   "outputs": [
    {
     "name": "stdout",
     "output_type": "stream",
     "text": [
      "enter the km=10\n",
      "the value in miles is 6.21371\n"
     ]
    }
   ],
   "source": [
    "km=float(input(\"enter the km=\"))\n",
    "miles=0.621371\n",
    "k_m=km*miles\n",
    "print(\"the value in miles is\",k_m)"
   ]
  },
  {
   "cell_type": "markdown",
   "id": "b84511c5",
   "metadata": {},
   "source": [
    "## 2. Write a Python program to convert Celsius to Fahrenheit?"
   ]
  },
  {
   "cell_type": "code",
   "execution_count": 16,
   "id": "7db302d9",
   "metadata": {},
   "outputs": [
    {
     "name": "stdout",
     "output_type": "stream",
     "text": [
      "Celsius : 45.6\n",
      " celsius to  fahrenheit 114.08\n"
     ]
    }
   ],
   "source": [
    "celsius = float(input(\"Celsius : \"))\n",
    "fahrenheit = 9/5 * celsius + 32\n",
    "#print(\"%0.2f celsius is %0.2f fahrenheit\"%(celsius,fahrenheit))\n",
    "print(\" celsius to  fahrenheit\",fahrenheit)"
   ]
  },
  {
   "cell_type": "markdown",
   "id": "c14c4bc1",
   "metadata": {},
   "source": [
    "## 3. Write a Python program to display calendar?"
   ]
  },
  {
   "cell_type": "code",
   "execution_count": 23,
   "id": "5a6628e2",
   "metadata": {},
   "outputs": [
    {
     "name": "stdout",
     "output_type": "stream",
     "text": [
      "enter the year2000\n",
      "Enter the month11\n",
      "   November 2000\n",
      "Mo Tu We Th Fr Sa Su\n",
      "       1  2  3  4  5\n",
      " 6  7  8  9 10 11 12\n",
      "13 14 15 16 17 18 19\n",
      "20 21 22 23 24 25 26\n",
      "27 28 29 30\n",
      "\n"
     ]
    }
   ],
   "source": [
    "import calendar\n",
    "\n",
    "year=int(input(\"enter the year\"))\n",
    "month=int(input(\"Enter the month\"))\n",
    "print(calendar.month(year,month))"
   ]
  },
  {
   "cell_type": "markdown",
   "id": "d4a7fcfc",
   "metadata": {},
   "source": [
    "## 4. Write a Python program to solve quadratic equation?\n"
   ]
  },
  {
   "cell_type": "code",
   "execution_count": 28,
   "id": "3012de88",
   "metadata": {},
   "outputs": [
    {
     "name": "stdout",
     "output_type": "stream",
     "text": [
      "Descriminant :  20\n",
      "Sol1 :  -1.3090169943749475\n",
      "Sol2 :  5.4409830056250525\n"
     ]
    }
   ],
   "source": [
    "import math\n",
    "a = 4\n",
    "b = 6\n",
    "c = 1\n",
    "\n",
    "d = b**2 - (4*a*c)\n",
    "print(\"Descriminant : \",d)\n",
    "\n",
    "sol1 = (-b - math.sqrt(d))/(2*a)\n",
    "sol2 = b - (math.sqrt(d))/(2*a)\n",
    "\n",
    "print(\"Sol1 : \",sol1)\n",
    "print(\"Sol2 : \",sol2)"
   ]
  },
  {
   "cell_type": "markdown",
   "id": "c0cbf72a",
   "metadata": {},
   "source": [
    "## 5. Write a Python program to swap two variables without temp variable?"
   ]
  },
  {
   "cell_type": "code",
   "execution_count": 37,
   "id": "f7350595",
   "metadata": {},
   "outputs": [
    {
     "name": "stdout",
     "output_type": "stream",
     "text": [
      "Enter the number5\n",
      "Enter the number2\n",
      "Before swappingx=5,y=2 \n",
      "After swaping the numbers x=2,y=5 \n"
     ]
    }
   ],
   "source": [
    "x=int(input(\"Enter the number\"))\n",
    "y=int(input(\"Enter the number\"))\n",
    "print(\"Before swappingx={},y={} \".format(x,y))\n",
    "y,x=x,y\n",
    "print(\"After swaping the numbers x={},y={} \".format(x,y))"
   ]
  }
 ],
 "metadata": {
  "kernelspec": {
   "display_name": "Python 3 (ipykernel)",
   "language": "python",
   "name": "python3"
  },
  "language_info": {
   "codemirror_mode": {
    "name": "ipython",
    "version": 3
   },
   "file_extension": ".py",
   "mimetype": "text/x-python",
   "name": "python",
   "nbconvert_exporter": "python",
   "pygments_lexer": "ipython3",
   "version": "3.9.7"
  }
 },
 "nbformat": 4,
 "nbformat_minor": 5
}
